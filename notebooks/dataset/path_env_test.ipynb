{
 "cells": [
  {
   "cell_type": "code",
   "execution_count": null,
   "id": "ca4b8825",
   "metadata": {},
   "outputs": [],
   "source": [
    "from dotenv import load_dotenv\n",
    "load_dotenv(dotenv_path=\".paths/paths.env\")\n",
    "import os"
   ]
  },
  {
   "cell_type": "code",
   "execution_count": null,
   "id": "a6d419d6",
   "metadata": {},
   "outputs": [],
   "source": [
    "# os.getenv()를 사용해 환경 변수 값을 가져옵니다.\n",
    "raw_path = os.getenv('DATA_RAW_DIR')\n",
    "\n",
    "if raw_path:\n",
    "    print(f\"✅ 성공! DATA_RAW_DIR 경로: {raw_path}\")\n",
    "else:\n",
    "    print(\"🚨 실패! DATA_RAW_DIR를 찾을 수 없습니다.\")\n",
    "    print(\"터미널에서 'source .paths/paths.env' 실행 후 jupyter를 다시 시작하세요.\")"
   ]
  }
 ],
 "metadata": {
  "language_info": {
   "name": "python"
  }
 },
 "nbformat": 4,
 "nbformat_minor": 5
}
