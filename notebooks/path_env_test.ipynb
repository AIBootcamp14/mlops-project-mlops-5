{
 "cells": [
  {
   "cell_type": "code",
   "execution_count": null,
   "id": "ee2c64d7",
   "metadata": {},
   "outputs": [],
   "source": [
    "from dotenv import load_dotenv\n",
    "load_dotenv(dotenv_path=\".paths/paths.env\")\n",
    "import os"
   ]
  },
  {
   "cell_type": "code",
   "execution_count": null,
   "id": "9b53f9f8",
   "metadata": {},
   "outputs": [],
   "source": [
    "# os.getenv()를 사용해 환경 변수 값을 가져옵니다.\n",
    "raw_path = os.getenv('DATA_RAW_DIR')\n",
    "\n",
    "if raw_path:\n",
    "    print(f\"✅ 성공! DATA_RAW_DIR 경로: {raw_path}\")\n",
    "else:\n",
    "    print(\"🚨 실패! DATA_RAW_DIR를 찾을 수 없습니다.\")\n",
    "    print(\"터미널에서 'source .paths/paths.env' 실행 후 jupyter를 다시 시작하세요.\")"
   ]
  }
 ],
 "metadata": {
  "kernelspec": {
   "display_name": "py3_11_9",
   "language": "python",
   "name": "python3"
  },
  "language_info": {
   "codemirror_mode": {
    "name": "ipython",
    "version": 3
   },
   "file_extension": ".py",
   "mimetype": "text/x-python",
   "name": "python",
   "nbconvert_exporter": "python",
   "pygments_lexer": "ipython3",
   "version": "3.11.9"
  }
 },
 "nbformat": 4,
 "nbformat_minor": 5
}
